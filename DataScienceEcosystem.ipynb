{
 "cells": [
  {
   "cell_type": "markdown",
   "id": "d91aa54e",
   "metadata": {},
   "source": [
    "# Data Science Tools end Ecosystem"
   ]
  },
  {
   "cell_type": "markdown",
   "id": "7a1e762a",
   "metadata": {},
   "source": [
    "In this notebook, Data Science Tools and Ecosystem are summarized."
   ]
  },
  {
   "cell_type": "markdown",
   "id": "911ab2a0",
   "metadata": {},
   "source": [
    "__Objectives__\n",
    "\n",
    "+ Popular coding languages for Data Scientists\n",
    "+ Popular libraries used for Data Science\n",
    "+ Popular Data Science Tools\n",
    "+ Examples of expressions"
   ]
  },
  {
   "cell_type": "markdown",
   "id": "3108539f",
   "metadata": {},
   "source": [
    "Some of the popular languages that Data Scientists use are:\n",
    "1. Python\n",
    "2. R\n",
    "3. SQL\n",
    "4. Julia\n",
    "5. Java\n",
    "6. Scala\n",
    "7. MATLAB \n",
    "8. JavaScript"
   ]
  },
  {
   "cell_type": "markdown",
   "id": "80887695",
   "metadata": {},
   "source": [
    "Some of the commonly used libraries used by Data Scientists include:\n",
    "1. NumPy\n",
    "2. Matplotlib\n",
    "3. Scipy\n",
    "4. pandas"
   ]
  },
  {
   "cell_type": "markdown",
   "id": "71534b90",
   "metadata": {},
   "source": [
    "|Data Science Tools|\n",
    "|:---|\n",
    "|Jupyter Notebooks|\n",
    "|RStudio|\n",
    "|Visual Studio Code|"
   ]
  },
  {
   "cell_type": "code",
   "execution_count": 4,
   "id": "9a28efd6",
   "metadata": {},
   "outputs": [
    {
     "data": {
      "text/html": [
       "<style>\n",
       "table {float:left}\n"
      ],
      "text/plain": [
       "<IPython.core.display.HTML object>"
      ]
     },
     "metadata": {},
     "output_type": "display_data"
    }
   ],
   "source": [
    "%%html\n",
    "<style>\n",
    "table {float:left}"
   ]
  },
  {
   "cell_type": "markdown",
   "id": "81dc3b87",
   "metadata": {},
   "source": [
    "### Below are a few examples of evaluating arithmetic expressions in Python.\n"
   ]
  },
  {
   "cell_type": "code",
   "execution_count": 11,
   "id": "0334d5e7",
   "metadata": {},
   "outputs": [
    {
     "data": {
      "text/plain": [
       "17"
      ]
     },
     "execution_count": 11,
     "metadata": {},
     "output_type": "execute_result"
    }
   ],
   "source": [
    "(3*4)+5"
   ]
  },
  {
   "cell_type": "markdown",
   "id": "be694364",
   "metadata": {},
   "source": [
    "This a simple arithmetic expression to mutiply then add integers"
   ]
  },
  {
   "cell_type": "code",
   "execution_count": 9,
   "id": "48497ff3",
   "metadata": {},
   "outputs": [
    {
     "data": {
      "text/plain": [
       "3.3333333333333335"
      ]
     },
     "execution_count": 9,
     "metadata": {},
     "output_type": "execute_result"
    }
   ],
   "source": [
    "200/60"
   ]
  },
  {
   "cell_type": "markdown",
   "id": "258f32eb",
   "metadata": {},
   "source": [
    "This will convert 200 minutes to hours by diving by 60"
   ]
  },
  {
   "cell_type": "markdown",
   "id": "de64d6bb",
   "metadata": {},
   "source": [
    "## Author\n",
    "Gabriel Seabra"
   ]
  },
  {
   "cell_type": "code",
   "execution_count": null,
   "id": "5a0b3ec9",
   "metadata": {},
   "outputs": [],
   "source": []
  }
 ],
 "metadata": {
  "kernelspec": {
   "display_name": "Python 3 (ipykernel)",
   "language": "python",
   "name": "python3"
  },
  "language_info": {
   "codemirror_mode": {
    "name": "ipython",
    "version": 3
   },
   "file_extension": ".py",
   "mimetype": "text/x-python",
   "name": "python",
   "nbconvert_exporter": "python",
   "pygments_lexer": "ipython3",
   "version": "3.11.4"
  }
 },
 "nbformat": 4,
 "nbformat_minor": 5
}
